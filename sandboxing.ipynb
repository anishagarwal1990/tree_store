{
 "cells": [
  {
   "cell_type": "code",
   "execution_count": 1,
   "metadata": {
    "collapsed": false
   },
   "outputs": [],
   "source": [
    "from __future__ import print_function\n",
    "from sqlalchemy import create_engine, Column, Integer, MetaData\n",
    "from sqlalchemy.ext.declarative import declarative_base\n",
    "from sqlalchemy.orm import sessionmaker\n",
    "\n",
    "# Create an engine to communicate with the database. The \"cockroachdb://\" prefix\n",
    "# for the engine URL indicates that we are connecting to CockroachDB.\n",
    "engine = create_engine(\"cockroachdb://maxroach@localhost:26257/ann_1?sslmode=disable\")\n",
    "Session = sessionmaker(bind=engine)\n",
    "session = Session()\n",
    "\n",
    "Base = declarative_base()\n"
   ]
  },
  {
   "cell_type": "code",
   "execution_count": null,
   "metadata": {
    "collapsed": false
   },
   "outputs": [],
   "source": [
    "class node_table(Base):\n",
    "    __tablename__ = 'nodes'\n",
    "    id = Column(Integer, primary_key=True)\n",
    "    num_children = Column(Integer)\n",
    "    \n",
    "class test_table(Base):\n",
    "    __tablename__ = 'test'\n",
    "    id = Column(Integer, primary_key=True)\n",
    "    num_children = Column(Integer)"
   ]
  },
  {
   "cell_type": "code",
   "execution_count": 17,
   "metadata": {
    "collapsed": false
   },
   "outputs": [
    {
     "name": "stdout",
     "output_type": "stream",
     "text": [
      "4 1000\n",
      "5 250\n"
     ]
    },
    {
     "name": "stderr",
     "output_type": "stream",
     "text": [
      "/Users/aagarwal/anaconda/lib/python2.7/site-packages/sqlalchemy/orm/session.py:434: SAWarning: Session's state has been changed on a non-active transaction - this state will be discarded.\n",
      "  \"Session's state has been changed on \"\n"
     ]
    }
   ],
   "source": [
    "session.rollback()\n",
    "# Insert two rows into the \"accounts\" table.\n",
    "session.add_all([\n",
    "    test_table(id=4, num_children=1000),\n",
    "    test_table(id=5, num_children=250),\n",
    "])\n",
    "\n",
    "session.commit()\n",
    "\n",
    "# Print out the balances.\n",
    "for node in session.query(test_table):\n",
    "    print(node.id, node.num_children)"
   ]
  },
  {
   "cell_type": "code",
   "execution_count": null,
   "metadata": {
    "collapsed": true
   },
   "outputs": [],
   "source": []
  }
 ],
 "metadata": {
  "anaconda-cloud": {},
  "kernelspec": {
   "display_name": "Python [conda root]",
   "language": "python",
   "name": "conda-root-py"
  },
  "language_info": {
   "codemirror_mode": {
    "name": "ipython",
    "version": 2
   },
   "file_extension": ".py",
   "mimetype": "text/x-python",
   "name": "python",
   "nbconvert_exporter": "python",
   "pygments_lexer": "ipython2",
   "version": "2.7.12"
  }
 },
 "nbformat": 4,
 "nbformat_minor": 1
}
